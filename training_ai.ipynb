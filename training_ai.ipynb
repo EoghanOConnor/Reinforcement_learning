{
 "cells": [
  {
   "cell_type": "code",
   "execution_count": 33,
   "metadata": {},
   "outputs": [],
   "source": [
    "import numpy as np\n",
    "import matplotlib.pyplot as plt"
   ]
  },
  {
   "cell_type": "code",
   "execution_count": 34,
   "metadata": {},
   "outputs": [],
   "source": [
    "#differant biometrics in this order height(cm),wingspan(cm), weight(kg),gender(0 male 1 female),age(years)\n",
    "# biometric = [185, 184,82,0,23]\n",
    "\n",
    "LEARNING_RATE = 0.1\n",
    "DISCOUNT = 0.95\n",
    "EPISODES = 10000\n",
    "SHOW_EVERY = 50\n",
    "#training proportions\n",
    "# observation={'rest':np.random.randint(100),'ut3':np.random.randint(100),'ut2':np.random.randint(100),'ut1':np.random.randint(100),'at':np.random.randint(100),'an':np.random.randint(100)}\n",
    "\n",
    "#The percentages of training and rest\n",
    "intensities={'training':50,'rest':50}\n",
    "\n",
    "#labels of what percentages are desirable. This is a simlified version of improvement.\n",
    "#If bot requests the athlete to train between 70-75% training, then it wins\n",
    "rewards=-(np.ones(100))\n",
    "for i in range (70,76):\n",
    "    rewards[i]=1"
   ]
  },
  {
   "cell_type": "markdown",
   "metadata": {},
   "source": [
    "###### Fake athlete scores"
   ]
  },
  {
   "cell_type": "code",
   "execution_count": 35,
   "metadata": {},
   "outputs": [],
   "source": [
    "#480=8 mins\n",
    "times = list()\n",
    "for i in range(60):\n",
    "    times.append(480-i)\n",
    "for i in range(60,70):\n",
    "    times.append(480-(i*2))\n",
    "for i in range(70,80):\n",
    "    times.append(480-(i*3))\n",
    "for i in reversed(range(80,101)):\n",
    "    times.append(480-i*1.5)\n",
    "    \n",
    "    \n",
    "    \n",
    "    \n",
    "    "
   ]
  },
  {
   "cell_type": "code",
   "execution_count": 36,
   "metadata": {},
   "outputs": [
    {
     "data": {
      "text/plain": [
       "Text(0, 0.5, 'Time (secs)')"
      ]
     },
     "execution_count": 36,
     "metadata": {},
     "output_type": "execute_result"
    },
    {
     "data": {
      "image/png": "[encoded data removed]",
      "text/plain": [
       "<Figure size 432x288 with 1 Axes>"
      ]
     },
     "metadata": {
      "needs_background": "light"
     },
     "output_type": "display_data"
    }
   ],
   "source": [
    "plt.plot(times)\n",
    "plt.xlabel('percentage')\n",
    "plt.ylabel('Time (secs)')"
   ]
  },
  {
   "cell_type": "markdown",
   "metadata": {},
   "source": [
    "##### function to get difference between times,\n",
    "The divide by 100 is just experimentation as the code isn't performing"
   ]
  },
  {
   "cell_type": "code",
   "execution_count": 37,
   "metadata": {},
   "outputs": [],
   "source": [
    "def get_split_diff(percent,new_percent):\n",
    "    diff=(times[percent]-times[new_percent])/100\n",
    "    return diff\n",
    "    "
   ]
  },
  {
   "cell_type": "code",
   "execution_count": 40,
   "metadata": {},
   "outputs": [],
   "source": [
    "#this prints all possible training percentages 0-100% with the corresponding rest 100-0%\n",
    "observation=list()\n",
    "for i in range(101):\n",
    "    observation.append([i,100-i])"
   ]
  },
  {
   "cell_type": "code",
   "execution_count": 41,
   "metadata": {},
   "outputs": [],
   "source": [
    "#This is a map of whether to increase,decrease or neither to the intensities.\n",
    "q_table=np.random.uniform(low=-2, high=0, size=(101,101,3))"
   ]
  },
  {
   "cell_type": "code",
   "execution_count": 42,
   "metadata": {},
   "outputs": [],
   "source": [
    "def do_action(state, action,episode):\n",
    "    \n",
    "    #increase training,decrease rest\n",
    "    if action==1 and intensities['training']<100:\n",
    "        intensities['training']+=1\n",
    "        intensities['rest']-=1\n",
    "        new_state=(state[0]+1,state[1]-1)\n",
    "        reward=get_split_diff(state[0],new_state[0])\n",
    "        if episode % SHOW_EVERY==0:\n",
    "            print(f\"Training is increased  {intensities}\")\n",
    "        return new_state, reward \n",
    "        \n",
    "    #decrease training, increase rest\n",
    "    elif action==2 and intensities['rest']<100:\n",
    "        intensities['training']-=1\n",
    "        intensities['rest']+=1\n",
    "        new_state=(state[0]-1,state[1]+1)\n",
    "        reward=get_split_diff(state[0],new_state[0])\n",
    "        if episode % SHOW_EVERY==0:\n",
    "            print(f\"Rest is increased  {intensities}\")\n",
    "        return new_state, reward\n",
    "    \n",
    "        #do nothing\n",
    "    else:\n",
    "        if episode % SHOW_EVERY==0:\n",
    "            print(f\"Intensities are not changed, {intensities}\")\n",
    "        reward=get_split_diff(state[0],state[0])\n",
    "        return state, reward\n",
    "\n",
    "     "
   ]
  },
  {
   "cell_type": "code",
   "execution_count": 43,
   "metadata": {},
   "outputs": [
    {
     "name": "stdout",
     "output_type": "stream",
     "text": [
      "Rest is increased  {'training': 49, 'rest': 51}\n",
      "Episode: 0\n",
      "Intensities are not changed, {'training': 51, 'rest': 49}\n",
      "Episode: 50\n",
      "Intensities are not changed, {'training': 51, 'rest': 49}\n",
      "Episode: 100\n",
      "Intensities are not changed, {'training': 51, 'rest': 49}\n",
      "Episode: 150\n",
      "Intensities are not changed, {'training': 51, 'rest': 49}\n",
      "Episode: 200\n",
      "Intensities are not changed, {'training': 51, 'rest': 49}\n",
      "Episode: 250\n",
      "Intensities are not changed, {'training': 51, 'rest': 49}\n",
      "Episode: 300\n",
      "Intensities are not changed, {'training': 51, 'rest': 49}\n",
      "Episode: 350\n",
      "Intensities are not changed, {'training': 51, 'rest': 49}\n",
      "Episode: 400\n",
      "Intensities are not changed, {'training': 51, 'rest': 49}\n",
      "Episode: 450\n",
      "Intensities are not changed, {'training': 51, 'rest': 49}\n",
      "Episode: 500\n",
      "Intensities are not changed, {'training': 51, 'rest': 49}\n",
      "Episode: 550\n",
      "Intensities are not changed, {'training': 51, 'rest': 49}\n",
      "Episode: 600\n",
      "Intensities are not changed, {'training': 51, 'rest': 49}\n",
      "Episode: 650\n",
      "Intensities are not changed, {'training': 51, 'rest': 49}\n",
      "Episode: 700\n",
      "Intensities are not changed, {'training': 51, 'rest': 49}\n",
      "Episode: 750\n",
      "Intensities are not changed, {'training': 51, 'rest': 49}\n",
      "Episode: 800\n",
      "Intensities are not changed, {'training': 51, 'rest': 49}\n",
      "Episode: 850\n",
      "Intensities are not changed, {'training': 51, 'rest': 49}\n",
      "Episode: 900\n",
      "Intensities are not changed, {'training': 51, 'rest': 49}\n",
      "Episode: 950\n",
      "Intensities are not changed, {'training': 51, 'rest': 49}\n",
      "Episode: 1000\n",
      "Intensities are not changed, {'training': 51, 'rest': 49}\n",
      "Episode: 1050\n",
      "Intensities are not changed, {'training': 51, 'rest': 49}\n",
      "Episode: 1100\n",
      "Intensities are not changed, {'training': 51, 'rest': 49}\n",
      "Episode: 1150\n",
      "Intensities are not changed, {'training': 51, 'rest': 49}\n",
      "Episode: 1200\n",
      "Intensities are not changed, {'training': 51, 'rest': 49}\n",
      "Episode: 1250\n",
      "Intensities are not changed, {'training': 51, 'rest': 49}\n",
      "Episode: 1300\n",
      "Intensities are not changed, {'training': 51, 'rest': 49}\n",
      "Episode: 1350\n",
      "Intensities are not changed, {'training': 51, 'rest': 49}\n",
      "Episode: 1400\n",
      "Intensities are not changed, {'training': 51, 'rest': 49}\n",
      "Episode: 1450\n",
      "Intensities are not changed, {'training': 51, 'rest': 49}\n",
      "Episode: 1500\n",
      "Intensities are not changed, {'training': 51, 'rest': 49}\n",
      "Episode: 1550\n",
      "Intensities are not changed, {'training': 51, 'rest': 49}\n",
      "Episode: 1600\n",
      "Intensities are not changed, {'training': 51, 'rest': 49}\n",
      "Episode: 1650\n",
      "Intensities are not changed, {'training': 51, 'rest': 49}\n",
      "Episode: 1700\n",
      "Intensities are not changed, {'training': 51, 'rest': 49}\n",
      "Episode: 1750\n",
      "Intensities are not changed, {'training': 51, 'rest': 49}\n",
      "Episode: 1800\n",
      "Intensities are not changed, {'training': 51, 'rest': 49}\n",
      "Episode: 1850\n",
      "Intensities are not changed, {'training': 51, 'rest': 49}\n",
      "Episode: 1900\n",
      "Intensities are not changed, {'training': 51, 'rest': 49}\n",
      "Episode: 1950\n",
      "Intensities are not changed, {'training': 51, 'rest': 49}\n",
      "Episode: 2000\n",
      "Intensities are not changed, {'training': 51, 'rest': 49}\n",
      "Episode: 2050\n",
      "Intensities are not changed, {'training': 51, 'rest': 49}\n",
      "Episode: 2100\n",
      "Intensities are not changed, {'training': 51, 'rest': 49}\n",
      "Episode: 2150\n",
      "Intensities are not changed, {'training': 51, 'rest': 49}\n",
      "Episode: 2200\n",
      "Intensities are not changed, {'training': 51, 'rest': 49}\n",
      "Episode: 2250\n",
      "Intensities are not changed, {'training': 51, 'rest': 49}\n",
      "Episode: 2300\n",
      "Intensities are not changed, {'training': 51, 'rest': 49}\n",
      "Episode: 2350\n",
      "Intensities are not changed, {'training': 51, 'rest': 49}\n",
      "Episode: 2400\n",
      "Intensities are not changed, {'training': 51, 'rest': 49}\n",
      "Episode: 2450\n",
      "Intensities are not changed, {'training': 51, 'rest': 49}\n",
      "Episode: 2500\n",
      "Intensities are not changed, {'training': 51, 'rest': 49}\n",
      "Episode: 2550\n",
      "Intensities are not changed, {'training': 51, 'rest': 49}\n",
      "Episode: 2600\n",
      "Intensities are not changed, {'training': 51, 'rest': 49}\n",
      "Episode: 2650\n",
      "Intensities are not changed, {'training': 51, 'rest': 49}\n",
      "Episode: 2700\n",
      "Intensities are not changed, {'training': 51, 'rest': 49}\n",
      "Episode: 2750\n",
      "Intensities are not changed, {'training': 51, 'rest': 49}\n",
      "Episode: 2800\n",
      "Intensities are not changed, {'training': 51, 'rest': 49}\n",
      "Episode: 2850\n",
      "Intensities are not changed, {'training': 51, 'rest': 49}\n",
      "Episode: 2900\n",
      "Intensities are not changed, {'training': 51, 'rest': 49}\n",
      "Episode: 2950\n",
      "Intensities are not changed, {'training': 51, 'rest': 49}\n",
      "Episode: 3000\n",
      "Intensities are not changed, {'training': 51, 'rest': 49}\n",
      "Episode: 3050\n",
      "Intensities are not changed, {'training': 51, 'rest': 49}\n",
      "Episode: 3100\n",
      "Intensities are not changed, {'training': 51, 'rest': 49}\n",
      "Episode: 3150\n",
      "Intensities are not changed, {'training': 51, 'rest': 49}\n",
      "Episode: 3200\n",
      "Intensities are not changed, {'training': 51, 'rest': 49}\n",
      "Episode: 3250\n",
      "Intensities are not changed, {'training': 51, 'rest': 49}\n",
      "Episode: 3300\n",
      "Intensities are not changed, {'training': 51, 'rest': 49}\n",
      "Episode: 3350\n",
      "Intensities are not changed, {'training': 51, 'rest': 49}\n",
      "Episode: 3400\n",
      "Intensities are not changed, {'training': 51, 'rest': 49}\n",
      "Episode: 3450\n",
      "Intensities are not changed, {'training': 51, 'rest': 49}\n",
      "Episode: 3500\n",
      "Intensities are not changed, {'training': 51, 'rest': 49}\n",
      "Episode: 3550\n",
      "Intensities are not changed, {'training': 51, 'rest': 49}\n",
      "Episode: 3600\n",
      "Intensities are not changed, {'training': 51, 'rest': 49}\n",
      "Episode: 3650\n",
      "Intensities are not changed, {'training': 51, 'rest': 49}\n",
      "Episode: 3700\n",
      "Intensities are not changed, {'training': 51, 'rest': 49}\n",
      "Episode: 3750\n",
      "Intensities are not changed, {'training': 51, 'rest': 49}\n",
      "Episode: 3800\n",
      "Intensities are not changed, {'training': 51, 'rest': 49}\n",
      "Episode: 3850\n",
      "Intensities are not changed, {'training': 51, 'rest': 49}\n",
      "Episode: 3900\n",
      "Intensities are not changed, {'training': 51, 'rest': 49}\n",
      "Episode: 3950\n",
      "Intensities are not changed, {'training': 51, 'rest': 49}\n",
      "Episode: 4000\n",
      "Intensities are not changed, {'training': 51, 'rest': 49}\n",
      "Episode: 4050\n",
      "Intensities are not changed, {'training': 51, 'rest': 49}\n",
      "Episode: 4100\n",
      "Intensities are not changed, {'training': 51, 'rest': 49}\n",
      "Episode: 4150\n",
      "Intensities are not changed, {'training': 51, 'rest': 49}\n",
      "Episode: 4200\n",
      "Intensities are not changed, {'training': 51, 'rest': 49}\n",
      "Episode: 4250\n",
      "Intensities are not changed, {'training': 51, 'rest': 49}\n",
      "Episode: 4300\n",
      "Intensities are not changed, {'training': 51, 'rest': 49}\n",
      "Episode: 4350\n",
      "Intensities are not changed, {'training': 51, 'rest': 49}\n",
      "Episode: 4400\n",
      "Intensities are not changed, {'training': 51, 'rest': 49}\n",
      "Episode: 4450\n",
      "Intensities are not changed, {'training': 51, 'rest': 49}\n",
      "Episode: 4500\n",
      "Intensities are not changed, {'training': 51, 'rest': 49}\n",
      "Episode: 4550\n",
      "Intensities are not changed, {'training': 51, 'rest': 49}\n",
      "Episode: 4600\n",
      "Intensities are not changed, {'training': 51, 'rest': 49}\n",
      "Episode: 4650\n",
      "Intensities are not changed, {'training': 51, 'rest': 49}\n",
      "Episode: 4700\n",
      "Intensities are not changed, {'training': 51, 'rest': 49}\n",
      "Episode: 4750\n",
      "Intensities are not changed, {'training': 51, 'rest': 49}\n",
      "Episode: 4800\n",
      "Intensities are not changed, {'training': 51, 'rest': 49}\n",
      "Episode: 4850\n",
      "Intensities are not changed, {'training': 51, 'rest': 49}\n",
      "Episode: 4900\n",
      "Intensities are not changed, {'training': 51, 'rest': 49}\n",
      "Episode: 4950\n",
      "Intensities are not changed, {'training': 51, 'rest': 49}\n",
      "Episode: 5000\n",
      "Intensities are not changed, {'training': 51, 'rest': 49}\n",
      "Episode: 5050\n",
      "Intensities are not changed, {'training': 51, 'rest': 49}\n",
      "Episode: 5100\n",
      "Intensities are not changed, {'training': 51, 'rest': 49}\n",
      "Episode: 5150\n",
      "Intensities are not changed, {'training': 51, 'rest': 49}\n",
      "Episode: 5200"
     ]
    },
    {
     "name": "stderr",
     "output_type": "stream",
     "text": [
      "C:\\Users\\my pc\\anaconda3\\envs\\AI\\lib\\site-packages\\ipykernel_launcher.py:9: RuntimeWarning: overflow encountered in double_scalars\n",
      "  if __name__ == '__main__':\n"
     ]
    },
    {
     "name": "stdout",
     "output_type": "stream",
     "text": [
      "\n",
      "Intensities are not changed, {'training': 51, 'rest': 49}\n",
      "Episode: 5250\n",
      "Intensities are not changed, {'training': 51, 'rest': 49}\n",
      "Episode: 5300\n",
      "Intensities are not changed, {'training': 51, 'rest': 49}\n",
      "Episode: 5350\n",
      "Intensities are not changed, {'training': 51, 'rest': 49}\n",
      "Episode: 5400\n",
      "Intensities are not changed, {'training': 51, 'rest': 49}\n",
      "Episode: 5450\n",
      "Intensities are not changed, {'training': 51, 'rest': 49}\n",
      "Episode: 5500\n",
      "Intensities are not changed, {'training': 51, 'rest': 49}\n",
      "Episode: 5550\n",
      "Intensities are not changed, {'training': 51, 'rest': 49}\n",
      "Episode: 5600\n",
      "Intensities are not changed, {'training': 51, 'rest': 49}\n",
      "Episode: 5650\n",
      "Intensities are not changed, {'training': 51, 'rest': 49}\n",
      "Episode: 5700\n",
      "Intensities are not changed, {'training': 51, 'rest': 49}\n",
      "Episode: 5750\n",
      "Intensities are not changed, {'training': 51, 'rest': 49}\n",
      "Episode: 5800\n",
      "Intensities are not changed, {'training': 51, 'rest': 49}\n",
      "Episode: 5850\n",
      "Intensities are not changed, {'training': 51, 'rest': 49}\n",
      "Episode: 5900\n",
      "Intensities are not changed, {'training': 51, 'rest': 49}\n",
      "Episode: 5950\n",
      "Intensities are not changed, {'training': 51, 'rest': 49}\n",
      "Episode: 6000\n",
      "Intensities are not changed, {'training': 51, 'rest': 49}\n",
      "Episode: 6050\n",
      "Intensities are not changed, {'training': 51, 'rest': 49}\n",
      "Episode: 6100\n",
      "Intensities are not changed, {'training': 51, 'rest': 49}\n",
      "Episode: 6150\n",
      "Intensities are not changed, {'training': 51, 'rest': 49}\n",
      "Episode: 6200\n",
      "Intensities are not changed, {'training': 51, 'rest': 49}\n",
      "Episode: 6250\n",
      "Intensities are not changed, {'training': 51, 'rest': 49}\n",
      "Episode: 6300\n",
      "Intensities are not changed, {'training': 51, 'rest': 49}\n",
      "Episode: 6350\n",
      "Intensities are not changed, {'training': 51, 'rest': 49}\n",
      "Episode: 6400\n",
      "Intensities are not changed, {'training': 51, 'rest': 49}\n",
      "Episode: 6450\n",
      "Intensities are not changed, {'training': 51, 'rest': 49}\n",
      "Episode: 6500\n",
      "Intensities are not changed, {'training': 51, 'rest': 49}\n",
      "Episode: 6550\n",
      "Intensities are not changed, {'training': 51, 'rest': 49}\n",
      "Episode: 6600\n",
      "Intensities are not changed, {'training': 51, 'rest': 49}\n",
      "Episode: 6650\n",
      "Intensities are not changed, {'training': 51, 'rest': 49}\n",
      "Episode: 6700\n",
      "Intensities are not changed, {'training': 51, 'rest': 49}\n",
      "Episode: 6750\n",
      "Intensities are not changed, {'training': 51, 'rest': 49}\n",
      "Episode: 6800\n",
      "Intensities are not changed, {'training': 51, 'rest': 49}\n",
      "Episode: 6850\n",
      "Intensities are not changed, {'training': 51, 'rest': 49}\n",
      "Episode: 6900\n",
      "Intensities are not changed, {'training': 51, 'rest': 49}\n",
      "Episode: 6950\n",
      "Intensities are not changed, {'training': 51, 'rest': 49}\n",
      "Episode: 7000\n",
      "Intensities are not changed, {'training': 51, 'rest': 49}\n",
      "Episode: 7050\n",
      "Intensities are not changed, {'training': 51, 'rest': 49}\n",
      "Episode: 7100\n",
      "Intensities are not changed, {'training': 51, 'rest': 49}\n",
      "Episode: 7150\n",
      "Intensities are not changed, {'training': 51, 'rest': 49}\n",
      "Episode: 7200\n",
      "Intensities are not changed, {'training': 51, 'rest': 49}\n",
      "Episode: 7250\n",
      "Intensities are not changed, {'training': 51, 'rest': 49}\n",
      "Episode: 7300\n",
      "Intensities are not changed, {'training': 51, 'rest': 49}\n",
      "Episode: 7350\n",
      "Intensities are not changed, {'training': 51, 'rest': 49}\n",
      "Episode: 7400\n",
      "Intensities are not changed, {'training': 51, 'rest': 49}\n",
      "Episode: 7450\n",
      "Intensities are not changed, {'training': 51, 'rest': 49}\n",
      "Episode: 7500\n",
      "Intensities are not changed, {'training': 51, 'rest': 49}\n",
      "Episode: 7550\n",
      "Intensities are not changed, {'training': 51, 'rest': 49}\n",
      "Episode: 7600\n",
      "Intensities are not changed, {'training': 51, 'rest': 49}\n",
      "Episode: 7650\n",
      "Intensities are not changed, {'training': 51, 'rest': 49}\n",
      "Episode: 7700\n",
      "Intensities are not changed, {'training': 51, 'rest': 49}\n",
      "Episode: 7750\n",
      "Intensities are not changed, {'training': 51, 'rest': 49}\n",
      "Episode: 7800\n",
      "Intensities are not changed, {'training': 51, 'rest': 49}\n",
      "Episode: 7850\n",
      "Intensities are not changed, {'training': 51, 'rest': 49}\n",
      "Episode: 7900\n",
      "Intensities are not changed, {'training': 51, 'rest': 49}\n",
      "Episode: 7950\n",
      "Intensities are not changed, {'training': 51, 'rest': 49}\n",
      "Episode: 8000\n",
      "Intensities are not changed, {'training': 51, 'rest': 49}\n",
      "Episode: 8050\n",
      "Intensities are not changed, {'training': 51, 'rest': 49}\n",
      "Episode: 8100\n",
      "Intensities are not changed, {'training': 51, 'rest': 49}\n",
      "Episode: 8150\n",
      "Intensities are not changed, {'training': 51, 'rest': 49}\n",
      "Episode: 8200\n",
      "Intensities are not changed, {'training': 51, 'rest': 49}\n",
      "Episode: 8250\n",
      "Intensities are not changed, {'training': 51, 'rest': 49}\n",
      "Episode: 8300\n",
      "Intensities are not changed, {'training': 51, 'rest': 49}\n",
      "Episode: 8350\n",
      "Intensities are not changed, {'training': 51, 'rest': 49}\n",
      "Episode: 8400\n",
      "Intensities are not changed, {'training': 51, 'rest': 49}\n",
      "Episode: 8450\n",
      "Intensities are not changed, {'training': 51, 'rest': 49}\n",
      "Episode: 8500\n",
      "Intensities are not changed, {'training': 51, 'rest': 49}\n",
      "Episode: 8550\n",
      "Intensities are not changed, {'training': 51, 'rest': 49}\n",
      "Episode: 8600\n",
      "Intensities are not changed, {'training': 51, 'rest': 49}\n",
      "Episode: 8650\n",
      "Intensities are not changed, {'training': 51, 'rest': 49}\n",
      "Episode: 8700\n",
      "Intensities are not changed, {'training': 51, 'rest': 49}\n",
      "Episode: 8750\n",
      "Intensities are not changed, {'training': 51, 'rest': 49}\n",
      "Episode: 8800\n",
      "Intensities are not changed, {'training': 51, 'rest': 49}\n",
      "Episode: 8850\n",
      "Intensities are not changed, {'training': 51, 'rest': 49}\n",
      "Episode: 8900\n",
      "Intensities are not changed, {'training': 51, 'rest': 49}\n",
      "Episode: 8950\n",
      "Intensities are not changed, {'training': 51, 'rest': 49}\n",
      "Episode: 9000\n",
      "Intensities are not changed, {'training': 51, 'rest': 49}\n",
      "Episode: 9050\n",
      "Intensities are not changed, {'training': 51, 'rest': 49}\n",
      "Episode: 9100\n",
      "Intensities are not changed, {'training': 51, 'rest': 49}\n",
      "Episode: 9150\n",
      "Intensities are not changed, {'training': 51, 'rest': 49}\n",
      "Episode: 9200\n",
      "Intensities are not changed, {'training': 51, 'rest': 49}\n",
      "Episode: 9250\n",
      "Intensities are not changed, {'training': 51, 'rest': 49}\n",
      "Episode: 9300\n",
      "Intensities are not changed, {'training': 51, 'rest': 49}\n",
      "Episode: 9350\n",
      "Intensities are not changed, {'training': 51, 'rest': 49}\n",
      "Episode: 9400\n",
      "Intensities are not changed, {'training': 51, 'rest': 49}\n",
      "Episode: 9450\n",
      "Intensities are not changed, {'training': 51, 'rest': 49}\n",
      "Episode: 9500\n",
      "Intensities are not changed, {'training': 51, 'rest': 49}\n",
      "Episode: 9550\n",
      "Intensities are not changed, {'training': 51, 'rest': 49}\n",
      "Episode: 9600\n",
      "Intensities are not changed, {'training': 51, 'rest': 49}\n",
      "Episode: 9650\n",
      "Intensities are not changed, {'training': 51, 'rest': 49}\n",
      "Episode: 9700\n",
      "Intensities are not changed, {'training': 51, 'rest': 49}\n",
      "Episode: 9750\n",
      "Intensities are not changed, {'training': 51, 'rest': 49}\n",
      "Episode: 9800\n",
      "Intensities are not changed, {'training': 51, 'rest': 49}\n",
      "Episode: 9850\n",
      "Intensities are not changed, {'training': 51, 'rest': 49}\n",
      "Episode: 9900\n",
      "Intensities are not changed, {'training': 51, 'rest': 49}\n",
      "Episode: 9950\n"
     ]
    }
   ],
   "source": [
    "#For loop\n",
    "state=tuple(observation[50])\n",
    "for episode in range (EPISODES):\n",
    "    action=np.argmax(q_table[state])\n",
    "#     print(f\"Before:{q_table[state]}\")\n",
    "    new_state, reward=do_action(state, action,episode)\n",
    "    max_future_q = np.amax(q_table[new_state])\n",
    "    current_q = q_table[state +(action, )]\n",
    "    new_q = (1-LEARNING_RATE) * current_q + LEARNING_RATE + (reward + DISCOUNT * max_future_q)\n",
    "    #          .9              *  2        + .1            +(3.95*3)\n",
    "    q_table[state+(action, )] = new_q\n",
    "#     print(f\"After:{q_table[state]}\")\n",
    "    state=new_state\n",
    "    if episode % SHOW_EVERY==0:\n",
    "        print(f\"Episode: {episode}\")\n",
    "    if reward ==1:\n",
    "        print(f\"Optimal training reached {intensities} by episode {episode}\")\n",
    "        break\n"
   ]
  },
  {
   "cell_type": "markdown",
   "metadata": {},
   "source": [
    "### Tutorial below"
   ]
  },
  {
   "cell_type": "code",
   "execution_count": 11,
   "metadata": {},
   "outputs": [],
   "source": [
    "import gym "
   ]
  },
  {
   "cell_type": "code",
   "execution_count": 12,
   "metadata": {
    "scrolled": true
   },
   "outputs": [
    {
     "data": {
      "text/plain": [
       "array([-0.41010466,  0.        ], dtype=float32)"
      ]
     },
     "execution_count": 12,
     "metadata": {},
     "output_type": "execute_result"
    }
   ],
   "source": [
    "env= gym.make(\"MountainCar-v0\")\n",
    "env.reset()"
   ]
  },
  {
   "cell_type": "code",
   "execution_count": 13,
   "metadata": {},
   "outputs": [
    {
     "name": "stdout",
     "output_type": "stream",
     "text": [
      "[0.6  0.07]\n",
      "[-1.2  -0.07]\n",
      "3\n"
     ]
    }
   ],
   "source": [
    "print(env.observation_space.high)\n",
    "print(env.observation_space.low)\n",
    "print(env.action_space.n)"
   ]
  },
  {
   "cell_type": "code",
   "execution_count": 14,
   "metadata": {},
   "outputs": [
    {
     "name": "stdout",
     "output_type": "stream",
     "text": [
      "(array([-4.0993953e-01,  1.6514561e-04], dtype=float32), -1.0, False, {})\n"
     ]
    }
   ],
   "source": [
    "print(env.step(2))"
   ]
  },
  {
   "cell_type": "code",
   "execution_count": 15,
   "metadata": {},
   "outputs": [
    {
     "name": "stdout",
     "output_type": "stream",
     "text": [
      "2\n"
     ]
    }
   ],
   "source": [
    "print(len(env.observation_space.high))"
   ]
  },
  {
   "cell_type": "code",
   "execution_count": 16,
   "metadata": {},
   "outputs": [
    {
     "name": "stdout",
     "output_type": "stream",
     "text": [
      "[20, 20]\n"
     ]
    }
   ],
   "source": [
    "DISCRETE_OS_SIZE= [20]* len(env.observation_space.high)\n",
    "print(DISCRETE_OS_SIZE)"
   ]
  },
  {
   "cell_type": "code",
   "execution_count": 17,
   "metadata": {},
   "outputs": [],
   "source": [
    "discrete_win_size= (env.observation_space.high - env.observation_space.low) / DISCRETE_OS_SIZE"
   ]
  },
  {
   "cell_type": "code",
   "execution_count": 18,
   "metadata": {},
   "outputs": [
    {
     "name": "stdout",
     "output_type": "stream",
     "text": [
      "[0.09  0.007]\n"
     ]
    }
   ],
   "source": [
    "print(discrete_win_size)"
   ]
  },
  {
   "cell_type": "code",
   "execution_count": 19,
   "metadata": {},
   "outputs": [],
   "source": [
    "q_table = np.random.uniform(low=-2,high=0,size=(DISCRETE_OS_SIZE+[env.action_space.n]))"
   ]
  },
  {
   "cell_type": "code",
   "execution_count": 20,
   "metadata": {},
   "outputs": [
    {
     "name": "stdout",
     "output_type": "stream",
     "text": [
      "(20, 20, 3)\n"
     ]
    }
   ],
   "source": [
    "print(q_table.shape)"
   ]
  },
  {
   "cell_type": "code",
   "execution_count": 21,
   "metadata": {},
   "outputs": [],
   "source": [
    "def get_discrete_state(state):\n",
    "    discrete_state = (state - env.observation_space.low) / discrete_win_size\n",
    "    return tuple(discrete_state.astype(np.int))"
   ]
  },
  {
   "cell_type": "code",
   "execution_count": 22,
   "metadata": {},
   "outputs": [
    {
     "name": "stdout",
     "output_type": "stream",
     "text": [
      "[-0.46265465  0.        ]\n"
     ]
    }
   ],
   "source": [
    "print(env.reset())"
   ]
  },
  {
   "cell_type": "code",
   "execution_count": 23,
   "metadata": {},
   "outputs": [],
   "source": [
    "discrete_state = get_discrete_state(env.reset())"
   ]
  },
  {
   "cell_type": "code",
   "execution_count": 24,
   "metadata": {},
   "outputs": [
    {
     "name": "stdout",
     "output_type": "stream",
     "text": [
      "(6, 10)\n"
     ]
    }
   ],
   "source": [
    "print(discrete_state)"
   ]
  },
  {
   "cell_type": "code",
   "execution_count": 25,
   "metadata": {},
   "outputs": [
    {
     "data": {
      "text/plain": [
       "array([-0.58356508, -1.05722592, -0.90865687])"
      ]
     },
     "execution_count": 25,
     "metadata": {},
     "output_type": "execute_result"
    }
   ],
   "source": [
    "q_table[discrete_state]"
   ]
  },
  {
   "cell_type": "code",
   "execution_count": 26,
   "metadata": {},
   "outputs": [
    {
     "data": {
      "text/plain": [
       "0"
      ]
     },
     "execution_count": 26,
     "metadata": {},
     "output_type": "execute_result"
    }
   ],
   "source": [
    "np.argmax(q_table[discrete_state])"
   ]
  },
  {
   "cell_type": "code",
   "execution_count": 27,
   "metadata": {},
   "outputs": [
    {
     "data": {
      "text/plain": [
       "(array([-5.9504527e-01, -4.7170222e-04], dtype=float32), -1.0, False, {})"
      ]
     },
     "execution_count": 27,
     "metadata": {},
     "output_type": "execute_result"
    }
   ],
   "source": [
    "env.step(0)"
   ]
  },
  {
   "cell_type": "code",
   "execution_count": 28,
   "metadata": {},
   "outputs": [],
   "source": [
    "new_state, reward, done, _ = env.step(0)"
   ]
  },
  {
   "cell_type": "code",
   "execution_count": 29,
   "metadata": {},
   "outputs": [
    {
     "data": {
      "text/plain": [
       "array([-0.59598523, -0.00093995], dtype=float32)"
      ]
     },
     "execution_count": 29,
     "metadata": {},
     "output_type": "execute_result"
    }
   ],
   "source": [
    "new_state"
   ]
  },
  {
   "cell_type": "code",
   "execution_count": 30,
   "metadata": {},
   "outputs": [
    {
     "data": {
      "text/plain": [
       "(6, 9)"
      ]
     },
     "execution_count": 30,
     "metadata": {},
     "output_type": "execute_result"
    }
   ],
   "source": [
    "get_discrete_state(new_state)"
   ]
  },
  {
   "cell_type": "code",
   "execution_count": 31,
   "metadata": {
    "scrolled": true
   },
   "outputs": [
    {
     "name": "stdout",
     "output_type": "stream",
     "text": [
      "0\n",
      "50\n",
      "100\n",
      "150\n"
     ]
    },
    {
     "ename": "KeyboardInterrupt",
     "evalue": "",
     "output_type": "error",
     "traceback": [
      "\u001b[1;31m---------------------------------------------------------------------------\u001b[0m",
      "\u001b[1;31mKeyboardInterrupt\u001b[0m                         Traceback (most recent call last)",
      "\u001b[1;32m<ipython-input-31-ee2e657a75db>\u001b[0m in \u001b[0;36m<module>\u001b[1;34m\u001b[0m\n\u001b[0;32m     22\u001b[0m \u001b[1;33m\u001b[0m\u001b[0m\n\u001b[0;32m     23\u001b[0m         \u001b[1;32mif\u001b[0m \u001b[0mrender\u001b[0m\u001b[1;33m:\u001b[0m\u001b[1;33m\u001b[0m\u001b[1;33m\u001b[0m\u001b[0m\n\u001b[1;32m---> 24\u001b[1;33m             \u001b[0menv\u001b[0m\u001b[1;33m.\u001b[0m\u001b[0mrender\u001b[0m\u001b[1;33m(\u001b[0m\u001b[1;33m)\u001b[0m\u001b[1;33m\u001b[0m\u001b[1;33m\u001b[0m\u001b[0m\n\u001b[0m\u001b[0;32m     25\u001b[0m \u001b[1;33m\u001b[0m\u001b[0m\n\u001b[0;32m     26\u001b[0m         \u001b[1;32mif\u001b[0m \u001b[1;32mnot\u001b[0m \u001b[0mdone\u001b[0m\u001b[1;33m:\u001b[0m\u001b[1;33m\u001b[0m\u001b[1;33m\u001b[0m\u001b[0m\n",
      "\u001b[1;32m~\\anaconda3\\envs\\AI\\lib\\site-packages\\gym\\core.py\u001b[0m in \u001b[0;36mrender\u001b[1;34m(self, mode, **kwargs)\u001b[0m\n\u001b[0;32m    293\u001b[0m \u001b[1;33m\u001b[0m\u001b[0m\n\u001b[0;32m    294\u001b[0m     \u001b[1;32mdef\u001b[0m \u001b[0mrender\u001b[0m\u001b[1;33m(\u001b[0m\u001b[0mself\u001b[0m\u001b[1;33m,\u001b[0m \u001b[0mmode\u001b[0m\u001b[1;33m=\u001b[0m\u001b[1;34m\"human\"\u001b[0m\u001b[1;33m,\u001b[0m \u001b[1;33m**\u001b[0m\u001b[0mkwargs\u001b[0m\u001b[1;33m)\u001b[0m\u001b[1;33m:\u001b[0m\u001b[1;33m\u001b[0m\u001b[1;33m\u001b[0m\u001b[0m\n\u001b[1;32m--> 295\u001b[1;33m         \u001b[1;32mreturn\u001b[0m \u001b[0mself\u001b[0m\u001b[1;33m.\u001b[0m\u001b[0menv\u001b[0m\u001b[1;33m.\u001b[0m\u001b[0mrender\u001b[0m\u001b[1;33m(\u001b[0m\u001b[0mmode\u001b[0m\u001b[1;33m,\u001b[0m \u001b[1;33m**\u001b[0m\u001b[0mkwargs\u001b[0m\u001b[1;33m)\u001b[0m\u001b[1;33m\u001b[0m\u001b[1;33m\u001b[0m\u001b[0m\n\u001b[0m\u001b[0;32m    296\u001b[0m \u001b[1;33m\u001b[0m\u001b[0m\n\u001b[0;32m    297\u001b[0m     \u001b[1;32mdef\u001b[0m \u001b[0mclose\u001b[0m\u001b[1;33m(\u001b[0m\u001b[0mself\u001b[0m\u001b[1;33m)\u001b[0m\u001b[1;33m:\u001b[0m\u001b[1;33m\u001b[0m\u001b[1;33m\u001b[0m\u001b[0m\n",
      "\u001b[1;32m~\\anaconda3\\envs\\AI\\lib\\site-packages\\gym\\envs\\classic_control\\mountain_car.py\u001b[0m in \u001b[0;36mrender\u001b[1;34m(self, mode)\u001b[0m\n\u001b[0;32m    166\u001b[0m         \u001b[0mself\u001b[0m\u001b[1;33m.\u001b[0m\u001b[0mcartrans\u001b[0m\u001b[1;33m.\u001b[0m\u001b[0mset_rotation\u001b[0m\u001b[1;33m(\u001b[0m\u001b[0mmath\u001b[0m\u001b[1;33m.\u001b[0m\u001b[0mcos\u001b[0m\u001b[1;33m(\u001b[0m\u001b[1;36m3\u001b[0m \u001b[1;33m*\u001b[0m \u001b[0mpos\u001b[0m\u001b[1;33m)\u001b[0m\u001b[1;33m)\u001b[0m\u001b[1;33m\u001b[0m\u001b[1;33m\u001b[0m\u001b[0m\n\u001b[0;32m    167\u001b[0m \u001b[1;33m\u001b[0m\u001b[0m\n\u001b[1;32m--> 168\u001b[1;33m         \u001b[1;32mreturn\u001b[0m \u001b[0mself\u001b[0m\u001b[1;33m.\u001b[0m\u001b[0mviewer\u001b[0m\u001b[1;33m.\u001b[0m\u001b[0mrender\u001b[0m\u001b[1;33m(\u001b[0m\u001b[0mreturn_rgb_array\u001b[0m\u001b[1;33m=\u001b[0m\u001b[0mmode\u001b[0m \u001b[1;33m==\u001b[0m \u001b[1;34m\"rgb_array\"\u001b[0m\u001b[1;33m)\u001b[0m\u001b[1;33m\u001b[0m\u001b[1;33m\u001b[0m\u001b[0m\n\u001b[0m\u001b[0;32m    169\u001b[0m \u001b[1;33m\u001b[0m\u001b[0m\n\u001b[0;32m    170\u001b[0m     \u001b[1;32mdef\u001b[0m \u001b[0mget_keys_to_action\u001b[0m\u001b[1;33m(\u001b[0m\u001b[0mself\u001b[0m\u001b[1;33m)\u001b[0m\u001b[1;33m:\u001b[0m\u001b[1;33m\u001b[0m\u001b[1;33m\u001b[0m\u001b[0m\n",
      "\u001b[1;32m~\\anaconda3\\envs\\AI\\lib\\site-packages\\gym\\envs\\classic_control\\rendering.py\u001b[0m in \u001b[0;36mrender\u001b[1;34m(self, return_rgb_array)\u001b[0m\n\u001b[0;32m    126\u001b[0m         \u001b[0mself\u001b[0m\u001b[1;33m.\u001b[0m\u001b[0mtransform\u001b[0m\u001b[1;33m.\u001b[0m\u001b[0menable\u001b[0m\u001b[1;33m(\u001b[0m\u001b[1;33m)\u001b[0m\u001b[1;33m\u001b[0m\u001b[1;33m\u001b[0m\u001b[0m\n\u001b[0;32m    127\u001b[0m         \u001b[1;32mfor\u001b[0m \u001b[0mgeom\u001b[0m \u001b[1;32min\u001b[0m \u001b[0mself\u001b[0m\u001b[1;33m.\u001b[0m\u001b[0mgeoms\u001b[0m\u001b[1;33m:\u001b[0m\u001b[1;33m\u001b[0m\u001b[1;33m\u001b[0m\u001b[0m\n\u001b[1;32m--> 128\u001b[1;33m             \u001b[0mgeom\u001b[0m\u001b[1;33m.\u001b[0m\u001b[0mrender\u001b[0m\u001b[1;33m(\u001b[0m\u001b[1;33m)\u001b[0m\u001b[1;33m\u001b[0m\u001b[1;33m\u001b[0m\u001b[0m\n\u001b[0m\u001b[0;32m    129\u001b[0m         \u001b[1;32mfor\u001b[0m \u001b[0mgeom\u001b[0m \u001b[1;32min\u001b[0m \u001b[0mself\u001b[0m\u001b[1;33m.\u001b[0m\u001b[0monetime_geoms\u001b[0m\u001b[1;33m:\u001b[0m\u001b[1;33m\u001b[0m\u001b[1;33m\u001b[0m\u001b[0m\n\u001b[0;32m    130\u001b[0m             \u001b[0mgeom\u001b[0m\u001b[1;33m.\u001b[0m\u001b[0mrender\u001b[0m\u001b[1;33m(\u001b[0m\u001b[1;33m)\u001b[0m\u001b[1;33m\u001b[0m\u001b[1;33m\u001b[0m\u001b[0m\n",
      "\u001b[1;32m~\\anaconda3\\envs\\AI\\lib\\site-packages\\gym\\envs\\classic_control\\rendering.py\u001b[0m in \u001b[0;36mrender\u001b[1;34m(self)\u001b[0m\n\u001b[0;32m    200\u001b[0m     \u001b[1;32mdef\u001b[0m \u001b[0mrender\u001b[0m\u001b[1;33m(\u001b[0m\u001b[0mself\u001b[0m\u001b[1;33m)\u001b[0m\u001b[1;33m:\u001b[0m\u001b[1;33m\u001b[0m\u001b[1;33m\u001b[0m\u001b[0m\n\u001b[0;32m    201\u001b[0m         \u001b[1;32mfor\u001b[0m \u001b[0mattr\u001b[0m \u001b[1;32min\u001b[0m \u001b[0mreversed\u001b[0m\u001b[1;33m(\u001b[0m\u001b[0mself\u001b[0m\u001b[1;33m.\u001b[0m\u001b[0mattrs\u001b[0m\u001b[1;33m)\u001b[0m\u001b[1;33m:\u001b[0m\u001b[1;33m\u001b[0m\u001b[1;33m\u001b[0m\u001b[0m\n\u001b[1;32m--> 202\u001b[1;33m             \u001b[0mattr\u001b[0m\u001b[1;33m.\u001b[0m\u001b[0menable\u001b[0m\u001b[1;33m(\u001b[0m\u001b[1;33m)\u001b[0m\u001b[1;33m\u001b[0m\u001b[1;33m\u001b[0m\u001b[0m\n\u001b[0m\u001b[0;32m    203\u001b[0m         \u001b[0mself\u001b[0m\u001b[1;33m.\u001b[0m\u001b[0mrender1\u001b[0m\u001b[1;33m(\u001b[0m\u001b[1;33m)\u001b[0m\u001b[1;33m\u001b[0m\u001b[1;33m\u001b[0m\u001b[0m\n\u001b[0;32m    204\u001b[0m         \u001b[1;32mfor\u001b[0m \u001b[0mattr\u001b[0m \u001b[1;32min\u001b[0m \u001b[0mself\u001b[0m\u001b[1;33m.\u001b[0m\u001b[0mattrs\u001b[0m\u001b[1;33m:\u001b[0m\u001b[1;33m\u001b[0m\u001b[1;33m\u001b[0m\u001b[0m\n",
      "\u001b[1;32m~\\anaconda3\\envs\\AI\\lib\\site-packages\\gym\\envs\\classic_control\\rendering.py\u001b[0m in \u001b[0;36menable\u001b[1;34m(self)\u001b[0m\n\u001b[0;32m    255\u001b[0m \u001b[1;33m\u001b[0m\u001b[0m\n\u001b[0;32m    256\u001b[0m     \u001b[1;32mdef\u001b[0m \u001b[0menable\u001b[0m\u001b[1;33m(\u001b[0m\u001b[0mself\u001b[0m\u001b[1;33m)\u001b[0m\u001b[1;33m:\u001b[0m\u001b[1;33m\u001b[0m\u001b[1;33m\u001b[0m\u001b[0m\n\u001b[1;32m--> 257\u001b[1;33m         \u001b[0mglColor4f\u001b[0m\u001b[1;33m(\u001b[0m\u001b[1;33m*\u001b[0m\u001b[0mself\u001b[0m\u001b[1;33m.\u001b[0m\u001b[0mvec4\u001b[0m\u001b[1;33m)\u001b[0m\u001b[1;33m\u001b[0m\u001b[1;33m\u001b[0m\u001b[0m\n\u001b[0m\u001b[0;32m    258\u001b[0m \u001b[1;33m\u001b[0m\u001b[0m\n\u001b[0;32m    259\u001b[0m \u001b[1;33m\u001b[0m\u001b[0m\n",
      "\u001b[1;32m~\\anaconda3\\envs\\AI\\lib\\site-packages\\pyglet\\gl\\lib.py\u001b[0m in \u001b[0;36merrcheck\u001b[1;34m(result, func, arguments)\u001b[0m\n\u001b[0;32m     85\u001b[0m \u001b[1;33m\u001b[0m\u001b[0m\n\u001b[0;32m     86\u001b[0m \u001b[1;33m\u001b[0m\u001b[0m\n\u001b[1;32m---> 87\u001b[1;33m \u001b[1;32mdef\u001b[0m \u001b[0merrcheck\u001b[0m\u001b[1;33m(\u001b[0m\u001b[0mresult\u001b[0m\u001b[1;33m,\u001b[0m \u001b[0mfunc\u001b[0m\u001b[1;33m,\u001b[0m \u001b[0marguments\u001b[0m\u001b[1;33m)\u001b[0m\u001b[1;33m:\u001b[0m\u001b[1;33m\u001b[0m\u001b[1;33m\u001b[0m\u001b[0m\n\u001b[0m\u001b[0;32m     88\u001b[0m     \u001b[1;32mif\u001b[0m \u001b[0m_debug_gl_trace\u001b[0m\u001b[1;33m:\u001b[0m\u001b[1;33m\u001b[0m\u001b[1;33m\u001b[0m\u001b[0m\n\u001b[0;32m     89\u001b[0m         \u001b[1;32mtry\u001b[0m\u001b[1;33m:\u001b[0m\u001b[1;33m\u001b[0m\u001b[1;33m\u001b[0m\u001b[0m\n",
      "\u001b[1;31mKeyboardInterrupt\u001b[0m: "
     ]
    }
   ],
   "source": [
    "for episode in range(EPISODES):\n",
    "    if episode % SHOW_EVERY ==0:\n",
    "        print(episode)\n",
    "        render = True\n",
    "    else:\n",
    "        render = False\n",
    "    discrete_state= get_discrete_state(env.reset())\n",
    "    done= False\n",
    "\n",
    "    while not done:\n",
    "        #Find the position of the highest value\n",
    "        action = np.argmax(q_table[discrete_state])\n",
    "        \n",
    "        #\n",
    "        new_state, reward, done, _ = env.step(action)\n",
    "        if reward != -1:\n",
    "            print(f\"the reward is {reward} episode {episode}\")\n",
    "#         print(f\"new_state: {new_state} reward: {reward} done: {done} _:{_}\")\n",
    "\n",
    "\n",
    "        new_discrete_state = get_discrete_state(new_state)\n",
    "        \n",
    "        if render:\n",
    "            env.render()\n",
    "\n",
    "        if not done:\n",
    "            max_future_q = np.amax(q_table[new_discrete_state])\n",
    "            current_q = q_table[discrete_state +(action, )]\n",
    "\n",
    "            new_q = (1-LEARNING_RATE) * current_q + LEARNING_RATE + (reward + DISCOUNT * max_future_q)\n",
    "            q_table[discrete_state+(action, )] = new_q\n",
    "\n",
    "        elif new_state[0] >= env.goal_position:\n",
    "            print(f\"Objective reached on episode {episode}\")\n",
    "            print(f\"reward is {reward}\")\n",
    "            env.render()\n",
    "            q_table[discrete_state + (action,)] = 0\n",
    "\n",
    "        discrete_state=new_discrete_state\n",
    "            \n",
    "env.close()"
   ]
  },
  {
   "cell_type": "code",
   "execution_count": null,
   "metadata": {},
   "outputs": [],
   "source": []
  }
 ],
 "metadata": {
  "kernelspec": {
   "display_name": "Python 3",
   "language": "python",
   "name": "python3"
  },
  "language_info": {
   "codemirror_mode": {
    "name": "ipython",
    "version": 3
   },
   "file_extension": ".py",
   "mimetype": "text/x-python",
   "name": "python",
   "nbconvert_exporter": "python",
   "pygments_lexer": "ipython3",
   "version": "3.7.9"
  }
 },
 "nbformat": 4,
 "nbformat_minor": 4
}
