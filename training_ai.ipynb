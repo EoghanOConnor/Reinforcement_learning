{
 "cells": [
  {
   "cell_type": "code",
   "execution_count": 21,
   "metadata": {},
   "outputs": [],
   "source": [
    "import numpy as np"
   ]
  },
  {
   "cell_type": "code",
   "execution_count": 148,
   "metadata": {},
   "outputs": [],
   "source": [
    "#differant biometrics in this order height(cm),wingspan(cm), weight(kg),gender(0 male 1 female),age(years)\n",
    "# biometric = [185, 184,82,0,23]\n",
    "\n",
    "LEARNING_RATE = 0.1\n",
    "DISCOUNT = 0.95\n",
    "EPISODES =1000\n",
    "\n",
    "#training proportions\n",
    "# observation={'rest':np.random.randint(100),'ut3':np.random.randint(100),'ut2':np.random.randint(100),'ut1':np.random.randint(100),'at':np.random.randint(100),'an':np.random.randint(100)}\n",
    "observation={'training':10,'rest':10}\n",
    "#labels of how much speed(in m/s) increase/decrease there was in each training camp\n",
    "labels=np.zeros(1000)\n",
    "for i in range (500,520):\n",
    "    labels[i]=1"
   ]
  },
  {
   "cell_type": "code",
   "execution_count": 149,
   "metadata": {},
   "outputs": [],
   "source": [
    "q_table=np.random.uniform(low=-2, high=0, size=(20,20,5)) "
   ]
  },
  {
   "cell_type": "code",
   "execution_count": 150,
   "metadata": {},
   "outputs": [],
   "source": [
    "def do_action(state, action,week,camp):\n",
    "    #do nothing\n",
    "    if action==0:\n",
    "        if(week is not 12):\n",
    "            return state,-1,False\n",
    "        else:\n",
    "            return state,labels[camp],True\n",
    "    #increase training\n",
    "    elif action==1:\n",
    "        state['training']+=1\n",
    "        if(week is not 12):\n",
    "            return state,-1,False\n",
    "        else:\n",
    "            return state,labels[camp],True   \n",
    "    #increase rest\n",
    "    elif action==2:\n",
    "        state['rest']+=1\n",
    "        if(week is not 12):\n",
    "            return state,-1,False\n",
    "        else:\n",
    "            return state,labels[camp],True   \n",
    "    \n",
    "    #decrease training\n",
    "    elif action==3:\n",
    "        state['training']-=1\n",
    "        if(week is not 12):\n",
    "            return state,-1,False\n",
    "        else:\n",
    "            return state,labels[camp],True   \n",
    "    \n",
    "    #decrease rest\n",
    "    elif action==4:\n",
    "        state['rest']-=1\n",
    "        if(week is not 12):\n",
    "            return state,-1,False\n",
    "        else:\n",
    "            return state,labels[camp],True   "
   ]
  },
  {
   "cell_type": "code",
   "execution_count": 151,
   "metadata": {},
   "outputs": [],
   "source": [
    "\n",
    "for camp in range (EPISODES):\n",
    "    for week in range(12):\n",
    "        action=np.argmax(q_table[observation['training'],observation['rest']])\n",
    "        new_state,reward,done=do_action(observation,action,week,camp)\n",
    "        max_future_q = np.max(q_table[(new_state['training'],new_state['rest'])])\n",
    "        current_q = q_table[(observation['training'],observation['rest'])+(action)]\n",
    "        \n",
    "        new_q=(1-LEARNING_RATE)*current_q+LEARNING_RATE*(reward+DISCOUNT*max_future_q)"
   ]
  },
  {
   "cell_type": "code",
   "execution_count": null,
   "metadata": {},
   "outputs": [],
   "source": []
  }
 ],
 "metadata": {
  "kernelspec": {
   "display_name": "Python 3",
   "language": "python",
   "name": "python3"
  },
  "language_info": {
   "codemirror_mode": {
    "name": "ipython",
    "version": 3
   },
   "file_extension": ".py",
   "mimetype": "text/x-python",
   "name": "python",
   "nbconvert_exporter": "python",
   "pygments_lexer": "ipython3",
   "version": "3.7.9"
  }
 },
 "nbformat": 4,
 "nbformat_minor": 4
}
