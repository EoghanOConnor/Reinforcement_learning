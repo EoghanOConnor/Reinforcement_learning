{
 "cells": [
  {
   "cell_type": "code",
   "execution_count": 29,
   "metadata": {},
   "outputs": [],
   "source": [
    "import numpy as np\n",
    "import matplotlib.pyplot as plt\n",
    "from itertools import combinations_with_replacement"
   ]
  },
  {
   "cell_type": "markdown",
   "metadata": {},
   "source": [
    "The following is a proof of concept, that given an erg score for a 2k a reinforcement learning model or in this case a map can determine the best intensities for an athlete to train in."
   ]
  },
  {
   "cell_type": "code",
   "execution_count": 30,
   "metadata": {},
   "outputs": [],
   "source": [
    "\n",
    "LEARNING_RATE = 0.1\n",
    "DISCOUNT = 0.95\n",
    "EPISODES = 500\n",
    "SHOW_EVERY = 50\n",
    "#training proportions\n",
    "intensities={'steady state':34,\n",
    "             'Aerobic thershold':33,\n",
    "             'Anaerobic':33}\n",
    "\n",
    "ind={1:'steady state',\n",
    "     2:'Aerobic thershold',\n",
    "     3:'Anaerobic'}\n"
   ]
  },
  {
   "cell_type": "markdown",
   "metadata": {},
   "source": [
    "###### Fake athlete scores"
   ]
  },
  {
   "cell_type": "code",
   "execution_count": 31,
   "metadata": {},
   "outputs": [],
   "source": [
    "#480=8 mins\n",
    "times = list()\n",
    "for i in range(60):\n",
    "    times.append(480-i)\n",
    "for i in range(60,70):\n",
    "    times.append(480-(i*2))\n",
    "for i in range(70,80):\n",
    "    times.append(480-(i*3))\n",
    "for i in reversed(range(80,101)):\n",
    "    times.append(480-i*1.5)"
   ]
  },
  {
   "cell_type": "markdown",
   "metadata": {},
   "source": [
    "Below the graph shows that this temporary athlete times improve the most when the training is between 70%-80% of UT2.\n",
    "This is to test to see if the agent is able to determine that this is the best percentage without been given this information"
   ]
  },
  {
   "cell_type": "code",
   "execution_count": 32,
   "metadata": {},
   "outputs": [
    {
     "data": {
      "text/plain": [
       "Text(0, 0.5, 'Time (secs)')"
      ]
     },
     "execution_count": 32,
     "metadata": {},
     "output_type": "execute_result"
    },
    {
     "data": {
      "image/png": "[encoded data removed]",
      "text/plain": [
       "<Figure size 432x288 with 1 Axes>"
      ]
     },
     "metadata": {
      "needs_background": "light"
     },
     "output_type": "display_data"
    }
   ],
   "source": [
    "plt.plot(times)\n",
    "plt.title(\"Athletes 2k times vs percentage of training intensity\")\n",
    "plt.xlabel('percentage')\n",
    "plt.ylabel('Time (secs)')"
   ]
  },
  {
   "cell_type": "markdown",
   "metadata": {},
   "source": [
    "##### function to get difference between times,\n",
    "The divide by 100 is just experimentation as the code isn't perfect"
   ]
  },
  {
   "cell_type": "code",
   "execution_count": 33,
   "metadata": {},
   "outputs": [],
   "source": [
    "def get_split_diff(state,new_state):\n",
    "    diff=(times[new_state[1]]-times[state[1]])/100\n",
    "    if diff >=0:\n",
    "        diff = -1\n",
    "    else:\n",
    "        diff=-1*diff\n",
    "\n",
    "    return diff\n",
    "    "
   ]
  },
  {
   "cell_type": "code",
   "execution_count": 34,
   "metadata": {},
   "outputs": [],
   "source": [
    "#This is a map of whether to increase,decrease or neither to the intensities.\n",
    "q_table=np.random.uniform(low=-2, high=0, size=(101,101,101,8))"
   ]
  },
  {
   "cell_type": "code",
   "execution_count": 35,
   "metadata": {},
   "outputs": [],
   "source": [
    "def do_action(state, actions,episode):\n",
    "    div=len(intensities)-1\n",
    "    action=actions//div\n",
    "    subaction=(actions%div)+1\n",
    "    new_state=list()\n",
    "    \n",
    "    if subaction>=action:\n",
    "        subaction+=1\n",
    " \n",
    "    #do nothing\n",
    "    if action==0:\n",
    "        if episode % SHOW_EVERY==0:\n",
    "            print(f\"Intensities are not changed, {intensities}\")\n",
    "            print(\" \")\n",
    "            \n",
    "        reward=get_split_diff(state,state)\n",
    "        return state, reward\n",
    "   \n",
    "    #Update system\n",
    "    elif intensities[ind[action]]<100 and intensities[ind[subaction]]>0 :\n",
    "        intensities[ind[action]]+=1\n",
    "        intensities[ind[subaction]]-=1\n",
    "        for i in range(len(intensities)):\n",
    "            if i==(action-1):\n",
    "                new_state.append(state[i]+1)\n",
    "            elif i==(subaction-1):\n",
    "                new_state.append(state[i]-1)\n",
    "            else:\n",
    "                new_state.append(state[i])\n",
    "        \n",
    "        if episode % SHOW_EVERY==0:\n",
    "            print(f\"{ind[action]} is increased, {ind[subaction]} is decreased\")\n",
    "            print(f\"The intensities are {intensities}\")\n",
    "            print(\" \")\n",
    "            \n",
    "        reward=get_split_diff(state,new_state)\n",
    "        return tuple(new_state), reward  "
   ]
  },
  {
   "cell_type": "code",
   "execution_count": 36,
   "metadata": {},
   "outputs": [
    {
     "name": "stdout",
     "output_type": "stream",
     "text": [
      "Training week: 0\n",
      "steady state is increased, Anaerobic is decreased\n",
      "The intensities are {'steady state': 35, 'Aerobic thershold': 33, 'Anaerobic': 32}\n",
      " \n",
      "Training week: 75\n",
      "steady state is increased, Aerobic thershold is decreased\n",
      "The intensities are {'steady state': 32, 'Aerobic thershold': 34, 'Anaerobic': 34}\n",
      " \n",
      "Training week: 150\n",
      "Intensities are not changed, {'steady state': 31, 'Aerobic thershold': 51, 'Anaerobic': 18}\n",
      " \n",
      "Training week: 225\n",
      "Anaerobic is increased, Aerobic thershold is decreased\n",
      "The intensities are {'steady state': 19, 'Aerobic thershold': 65, 'Anaerobic': 16}\n",
      " \n",
      "Training week: 300\n",
      "Aerobic thershold is increased, steady state is decreased\n",
      "The intensities are {'steady state': 14, 'Aerobic thershold': 77, 'Anaerobic': 9}\n",
      " \n",
      "Training week: 375\n",
      "Anaerobic is increased, steady state is decreased\n",
      "The intensities are {'steady state': 7, 'Aerobic thershold': 82, 'Anaerobic': 11}\n",
      " \n",
      "Training week: 450\n",
      "Anaerobic is increased, Aerobic thershold is decreased\n",
      "The intensities are {'steady state': 15, 'Aerobic thershold': 79, 'Anaerobic': 6}\n",
      " \n"
     ]
    }
   ],
   "source": [
    "#For loop\n",
    "state=tuple([34,33,33])\n",
    "for episode in range (EPISODES):\n",
    "    if episode % SHOW_EVERY==0:\n",
    "        print(f\"Training week: {episode}\")\n",
    "        \n",
    "    action=np.argmax(q_table[state])\n",
    "    new_state, reward=do_action(state, action,episode)\n",
    "    if reward >0:\n",
    "        new_q=reward\n",
    "    else:\n",
    "        max_future_q = np.amax(q_table[new_state])\n",
    "        current_q = q_table[state +(action, )]\n",
    "        new_q = (1-LEARNING_RATE) * current_q + LEARNING_RATE + (reward + DISCOUNT * max_future_q)\n",
    "    q_table[state+(action, )] = new_q\n",
    "        \n",
    "    state=new_state\n"
   ]
  }
 ],
 "metadata": {
  "kernelspec": {
   "display_name": "Python 3",
   "language": "python",
   "name": "python3"
  },
  "language_info": {
   "codemirror_mode": {
    "name": "ipython",
    "version": 3
   },
   "file_extension": ".py",
   "mimetype": "text/x-python",
   "name": "python",
   "nbconvert_exporter": "python",
   "pygments_lexer": "ipython3",
   "version": "3.7.9"
  }
 },
 "nbformat": 4,
 "nbformat_minor": 4
}
